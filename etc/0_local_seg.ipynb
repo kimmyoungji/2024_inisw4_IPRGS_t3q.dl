{
 "cells": [
  {
   "cell_type": "markdown",
   "id": "concrete-police",
   "metadata": {},
   "source": [
    "# 로컬 개발 코드\n",
    "- 로컬에서 주피터 노트북(Jupyter Notebook), 주피터 랩(JupyterLab) 또는 파이썬(Python)을 이용한다. \n",
    "- 사이킷 런(scikit-learn), 텐서플로우(tensorflow), 파이토치(pytorch)를 사용하여 딥러닝 프로그램을 개발한다.\n",
    "- 파일명: 0_local_image_classification.ipynb\n",
    "\n",
    "### 로컬 개발 워크플로우(workflow)  \n",
    "- 로컬 개발 워크플로우를 다음의 4단계로 분리한다.\n",
    "\n",
    "1. 데이터 세트 준비(Data Setup)\n",
    "- 로컬 저장소에서 전처리 및 학습에 필요한 학습 데이터 세트를 준비한다.\n",
    "\n",
    "2. 데이터 전처리(Data Preprocessing)\n",
    "- 데이터 세트의 분석 및 정규화(Normalization)등의 전처리를 수행한다.\n",
    "- 데이터를 모델 학습에 사용할 수 있도록 가공한다.\n",
    "- 추론과정에서 필요한 경우, 데이터 전처리에 사용된 객체를 meta_data 폴더 아래에 저장한다.\n",
    "\n",
    "3. 학습 모델 훈련(Train Model)\n",
    "- 데이터를 훈련에 사용할 수 있도록 가공한 뒤에 학습 모델을 구성한다. \n",
    "- 학습 모델을 준비된 데이터 세트로 훈련시킨다.\n",
    "- 정확도(Accuracy)나 손실(Loss)등 학습 모델의 성능을 검증한다.\n",
    "- 학습 모델의 성능 검증 후, 학습 모델을 배포한다.\n",
    "- 배포할 학습 모델을 meta_data 폴더 아래에 저장한다.\n",
    "\n",
    "4. 추론(Inference)\n",
    "- 저장된 전처리 객체나 학습 모델 객체를 준비한다.\n",
    "- 추론에 필요한 테스트 데이터 세트를 준비한다.\n",
    "- 배포된 학습 모델을 통해 테스트 데이터에 대한 추론을 진행한다. "
   ]
  },
  {
   "cell_type": "code",
   "execution_count": null,
   "id": "relevant-diamond",
   "metadata": {},
   "outputs": [],
   "source": [
    "pip list"
   ]
  },
  {
   "cell_type": "markdown",
   "id": "advance-surgery",
   "metadata": {
    "id": "uqgsLn7tJG8w"
   },
   "source": [
    "# 영역분할 (Panoptic Segmentation)"
   ]
  },
  {
   "cell_type": "markdown",
   "id": "appointed-tenant",
   "metadata": {},
   "source": [
    "## ~~**1. 데이터셋 준비(Data Setup)**~~"
   ]
  },
  {
   "cell_type": "markdown",
   "id": "secondary-surgeon",
   "metadata": {
    "id": "c43e25e8-e9de-402a-942e-8a861332ea1d"
   },
   "source": [
    "## ~~**2. 데이터 전처리 (Data Preprocessing)**~~"
   ]
  },
  {
   "cell_type": "markdown",
   "id": "maritime-drunk",
   "metadata": {
    "id": "8ee2a19f-67ae-48d6-83c8-5eacff3813ca"
   },
   "source": [
    "## ~~**3. 학습 모델 훈련 (Train Model)**~~\n",
    "## 3. **모델 가져오기 (Load Model)**\n",
    "\n",
    "mask2former-swin-large-cityscapes-panoptic 가져오기"
   ]
  },
  {
   "cell_type": "code",
   "execution_count": null,
   "id": "framed-briefs",
   "metadata": {
    "colab": {
     "base_uri": "https://localhost:8080/"
    },
    "id": "a0dea8a7-2624-424b-9596-1b591f5ef6f8",
    "outputId": "343ae838-4256-4300-bb75-d956466f0438"
   },
   "outputs": [],
   "source": [
    "# 모델 가져오기\n",
    "import requests\n",
    "import torch\n",
    "from transformers import AutoImageProcessor, Mask2FormerForUniversalSegmentation\n",
    "\n",
    "processor = AutoImageProcessor.from_pretrained(\"facebook/mask2former-swin-large-cityscapes-panoptic\")\n",
    "model = Mask2FormerForUniversalSegmentation.from_pretrained(\"facebook/mask2former-swin-large-cityscapes-panoptic\")\n",
    "\n",
    "print(model)"
   ]
  },
  {
   "cell_type": "markdown",
   "id": "enhanced-binary",
   "metadata": {
    "id": "0d590e79-1916-4700-b50d-63322b892487"
   },
   "source": [
    "### ~~모델 컴파일 및 학습 (Compile and Train Model)~~"
   ]
  },
  {
   "cell_type": "markdown",
   "id": "executed-guide",
   "metadata": {
    "id": "_gtOo9S18ZB8"
   },
   "source": [
    "##### ~~모델 컴파일 (Compile Model)~~"
   ]
  },
  {
   "cell_type": "markdown",
   "id": "wired-special",
   "metadata": {
    "id": "-VAAPRXD8ew_"
   },
   "source": [
    "##### ~~모델 학습 (Train Model)~~"
   ]
  },
  {
   "cell_type": "markdown",
   "id": "harmful-baseline",
   "metadata": {
    "id": "d2448471-996d-425e-8130-aca498eb8e5f"
   },
   "source": [
    "### ~~모델 평가 (Evaluate Model)~~"
   ]
  },
  {
   "cell_type": "markdown",
   "id": "alert-fifth",
   "metadata": {
    "id": "d46de9ff-fdb3-40f0-a40e-ddee8afbfd46"
   },
   "source": [
    "## **4. 추론 (Inference)**"
   ]
  },
  {
   "cell_type": "code",
   "execution_count": 1,
   "id": "protected-letters",
   "metadata": {
    "id": "86neoEfLIGFX",
    "tags": []
   },
   "outputs": [
    {
     "name": "stdout",
     "output_type": "stream",
     "text": [
      "./iprgs_meta_dataset.zip\n",
      "./iprgs_meta_dataset\n"
     ]
    },
    {
     "ename": "FileNotFoundError",
     "evalue": "[Errno 2] No such file or directory: './iprgs_meta_dataset.zip'",
     "output_type": "error",
     "traceback": [
      "\u001b[0;31m---------------------------------------------------------------------------\u001b[0m",
      "\u001b[0;31mFileNotFoundError\u001b[0m                         Traceback (most recent call last)",
      "Cell \u001b[0;32mIn[1], line 10\u001b[0m\n\u001b[1;32m      7\u001b[0m \u001b[38;5;28mprint\u001b[39m(zip_source_path)\n\u001b[1;32m      8\u001b[0m \u001b[38;5;28mprint\u001b[39m(zip_target_path)\n\u001b[0;32m---> 10\u001b[0m extract_zip_file \u001b[38;5;241m=\u001b[39m \u001b[43mzipfile\u001b[49m\u001b[38;5;241;43m.\u001b[39;49m\u001b[43mZipFile\u001b[49m\u001b[43m(\u001b[49m\u001b[43mzip_source_path\u001b[49m\u001b[43m)\u001b[49m\n\u001b[1;32m     11\u001b[0m extract_zip_file\u001b[38;5;241m.\u001b[39mextractall(zip_target_path)\n\u001b[1;32m     13\u001b[0m extract_zip_file\u001b[38;5;241m.\u001b[39mclose()\n",
      "File \u001b[0;32m~/.pyenv/versions/3.10.4/lib/python3.10/zipfile.py:1249\u001b[0m, in \u001b[0;36mZipFile.__init__\u001b[0;34m(self, file, mode, compression, allowZip64, compresslevel, strict_timestamps)\u001b[0m\n\u001b[1;32m   1247\u001b[0m \u001b[38;5;28;01mwhile\u001b[39;00m \u001b[38;5;28;01mTrue\u001b[39;00m:\n\u001b[1;32m   1248\u001b[0m     \u001b[38;5;28;01mtry\u001b[39;00m:\n\u001b[0;32m-> 1249\u001b[0m         \u001b[38;5;28mself\u001b[39m\u001b[38;5;241m.\u001b[39mfp \u001b[38;5;241m=\u001b[39m \u001b[43mio\u001b[49m\u001b[38;5;241;43m.\u001b[39;49m\u001b[43mopen\u001b[49m\u001b[43m(\u001b[49m\u001b[43mfile\u001b[49m\u001b[43m,\u001b[49m\u001b[43m \u001b[49m\u001b[43mfilemode\u001b[49m\u001b[43m)\u001b[49m\n\u001b[1;32m   1250\u001b[0m     \u001b[38;5;28;01mexcept\u001b[39;00m \u001b[38;5;167;01mOSError\u001b[39;00m:\n\u001b[1;32m   1251\u001b[0m         \u001b[38;5;28;01mif\u001b[39;00m filemode \u001b[38;5;129;01min\u001b[39;00m modeDict:\n",
      "\u001b[0;31mFileNotFoundError\u001b[0m: [Errno 2] No such file or directory: './iprgs_meta_dataset.zip'"
     ]
    }
   ],
   "source": [
    "# 1) 테스트 데이터셋 압축을 풀어준다.\n",
    "import zipfile\n",
    "\n",
    "zip_source_path = './iprgs_meta_dataset.zip'\n",
    "zip_target_path = './iprgs_meta_dataset'\n",
    "\n",
    "print(zip_source_path)\n",
    "print(zip_target_path)\n",
    "\n",
    "extract_zip_file = zipfile.ZipFile(zip_source_path)\n",
    "extract_zip_file.extractall(zip_target_path)\n",
    " \n",
    "extract_zip_file.close()"
   ]
  },
  {
   "cell_type": "code",
   "execution_count": null,
   "id": "important-municipality",
   "metadata": {
    "colab": {
     "base_uri": "https://localhost:8080/",
     "height": 282
    },
    "id": "b3776aaf-3ccb-480c-bdbb-5e69a09e48e2",
    "outputId": "8680ad5b-8e60-4b80-9658-65aeb3a21474"
   },
   "outputs": [],
   "source": [
    "# 2) 모델 입력 형태에 맞게 이미지 데이터 형태 변환하기\n",
    "import os\n",
    "from  PIL import Image\n",
    "import matplotlib.pyplot as plt\n",
    "\n",
    "my_path='./iprgs_meta_dataset/iprgs_test_dataset/'\n",
    "\n",
    "filenames = os.listdir(my_path)\n",
    "print(filenames)\n",
    "img = Image.open(my_path + filenames[0])\n",
    "input = processor(images=img, return_tensors='pt')"
   ]
  },
  {
   "cell_type": "code",
   "execution_count": 37,
   "id": "theoretical-priority",
   "metadata": {
    "colab": {
     "base_uri": "https://localhost:8080/"
    },
    "id": "bdd39f94-38a5-458e-b284-4d4d55ba3966",
    "outputId": "229f498a-b763-49ca-eaf4-de8ba39c0557"
   },
   "outputs": [],
   "source": [
    "# 3) 모델에 입력값 전달, 출력값 받기\n",
    "with torch.no_grad():\n",
    "    outputs = model(**input)"
   ]
  },
  {
   "cell_type": "code",
   "execution_count": 38,
   "id": "28959f34",
   "metadata": {},
   "outputs": [],
   "source": [
    "# 4) 결과 출력\n",
    "class_queries_logits = outputs.class_queries_logits\n",
    "masks_queries_logits = outputs.masks_queries_logits\n",
    "\n",
    "result = processor.post_process_panoptic_segmentation(outputs, target_sizes=[img.size[::-1]])[0]\n",
    "\n",
    "result"
   ]
  },
  {
   "cell_type": "markdown",
   "id": "487cb472",
   "metadata": {},
   "source": [
    "##### class_queries_logits:\n",
    "class_queries_logits (torch.FloatTensor) — A tensor of shape (batch_size, num_queries, num_labels + 1) representing the proposed classes for each query. Note the + 1 is needed because we incorporate the null class.\n",
    "\n",
    "##### masks_queries_logits:\n",
    "masks_queries_logits (torch.FloatTensor) — A tensor of shape (batch_size, num_queries, height, width) representing the proposed masks for each query."
   ]
  }
 ],
 "metadata": {
  "accelerator": "GPU",
  "colab": {
   "name": "image_classification.ipynb",
   "provenance": []
  },
  "kernelspec": {
   "display_name": "Python 3",
   "language": "python",
   "name": "python3"
  },
  "language_info": {
   "codemirror_mode": {
    "name": "ipython",
    "version": 3
   },
   "file_extension": ".py",
   "mimetype": "text/x-python",
   "name": "python",
   "nbconvert_exporter": "python",
   "pygments_lexer": "ipython3",
   "version": "3.10.4"
  }
 },
 "nbformat": 4,
 "nbformat_minor": 5
}
